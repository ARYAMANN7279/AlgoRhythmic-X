{
  "nbformat": 4,
  "nbformat_minor": 0,
  "metadata": {
    "colab": {
      "provenance": []
    },
    "kernelspec": {
      "name": "python3",
      "display_name": "Python 3"
    },
    "language_info": {
      "name": "python"
    }
  },
  "cells": [
    {
      "cell_type": "code",
      "execution_count": null,
      "metadata": {
        "id": "cZmB02UR2QhY"
      },
      "outputs": [],
      "source": [
        "import yfinance as yf\n",
        "import matplotlib.pyplot as plt\n",
        "\n",
        "def hourly_to_daily(stock_data,index_data):\n",
        "    stock_daily_data =stock_data.resample('D').last()\n",
        "    index_daily_data =index_data.resample('D').last()\n",
        "    return stock_daily_data,index_daily_data\n",
        "def calculate_daily_returns(daily_data):\n",
        "    daily_returns=(daily_data['Close'] - daily_data['Open']) / daily_data['Open']\n",
        "    return daily_returns\n",
        "def calculate_cumulative_returns(closing_prices,first_open):\n",
        "    cumulative_returns=(closing_prices-first_open)/first_open\n",
        "    return cumulative_returns\n",
        "\n",
        "name=\"GOOGLE\"\n",
        "index_ticker=\"^GSPC\"\n",
        "stock_ticker=\"GOOGL\"\n",
        "start_date=\"2023-01-01\"\n",
        "end_date=\"2024-01-31\"\n",
        "\n",
        "index_data=yf.download(index_ticker,start_date,end_date,\"1h\")\n",
        "stock_data=yf.download(stock_ticker,start_date,end_date,\"1h\")\n",
        "stock_daily_data,index_daily_data=hourly_to_daily(stock_data,index_data)\n",
        "index_daily_returns=calculate_daily_returns(index_daily_data)\n",
        "stock_daily_returns=calculate_daily_returns(stock_daily_data)\n",
        "first_open_stock=stock_daily_data['Open'].iloc[0]\n",
        "first_open_index=index_daily_data['Open'].iloc[0]\n",
        "index_cumulative_returns=calculate_cumulative_returns(index_daily_data['Close'],first_open_index)\n",
        "stock_cumulative_returns=calculate_cumulative_returns(stock_daily_data['Close'],first_open_stock)\n",
        "\n",
        "figure,graph= plt.subplots(2,1,figsize=(10, 10))\n",
        "graph[0].plot(index_daily_returns.index,index_daily_returns,label='Index Daily Returns',color='blue')\n",
        "graph[0].plot(stock_daily_returns.index,stock_daily_returns,label=f'Stock({name}) Daily Returns',color='red')\n",
        "graph[0].set_title(f'Index and Stock({name}) Daily Returns vs Date')\n",
        "graph[0].set_xlabel('Date')\n",
        "graph[0].set_ylabel('Returns')\n",
        "graph[0].grid(True)\n",
        "graph[0].legend()\n",
        "\n",
        "graph[1].plot(index_cumulative_returns.index,index_cumulative_returns,label='Index Cumulative Returns',color='purple')\n",
        "graph[1].plot(stock_cumulative_returns.index,stock_cumulative_returns,label=f'Stock({name}) Cumulative Returns',color='black')\n",
        "graph[1].set_title(f'Index and Stock({name}) Cumulative Returns vs Date')\n",
        "graph[1].set_xlabel('Date')\n",
        "graph[1].set_ylabel('Returns')\n",
        "graph[1].grid(True)\n",
        "graph[1].legend()\n",
        "\n",
        "plt.show()\n"
      ]
    },
    {
      "cell_type": "code",
      "source": [
        "import yfinance as yf\n",
        "import pandas as pd\n",
        "import matplotlib.pyplot as plt\n",
        "\n",
        "def add_rolling_column(df,column):\n",
        "    mean= df[column].rolling(7).mean()#.rolling(),source->internet\n",
        "    df[\"7-day Rolling mean\"]=mean\n",
        "    return df\n",
        "\n",
        "Ticker=\"NVDA\"\n",
        "data = yf.download(f\"{Ticker}\",\"2023-01-01\",\"2024-01-01\",\"1d\")\n",
        "data.to_csv(f\"{Ticker}.csv\")\n",
        "df = pd.read_csv(f\"{Ticker}.csv\")\n",
        "df['Date'] = pd.to_datetime(df['Date'])\n",
        "df['Day_of_Week'] = df['Date'].dt.day_name()\n",
        "s=df.groupby('Day_of_Week')['Close'].mean()\n",
        "day=s.idxmax()\n",
        "\n",
        "plt.figure(figsize=(10,5))\n",
        "plt.bar(s.index,s,color=\"green\",label=\"Avg Closing Price\")\n",
        "plt.title('NVIDIA Avg Closing Price VS Week')\n",
        "plt.xlabel('Week')\n",
        "plt.ylabel('Avg Closing Price')\n",
        "plt.ylim(350,370)\n",
        "plt.legend()\n",
        "plt.show()\n",
        "\n",
        "add_rolling_column(df,\"Close\")\n",
        "print(df)\n"
      ],
      "metadata": {
        "id": "vMQYXvtr2WUe"
      },
      "execution_count": null,
      "outputs": []
    }
  ]
}